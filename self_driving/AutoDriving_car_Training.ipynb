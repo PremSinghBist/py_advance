{
 "cells": [
  {
   "attachments": {},
   "cell_type": "markdown",
   "metadata": {},
   "source": [
    "# Training END-TO-END CNN  "
   ]
  },
  {
   "cell_type": "code",
   "execution_count": 42,
   "metadata": {},
   "outputs": [],
   "source": [
    "#!pip install keras==2.2.0\n",
    "#!pip install tensorflow==2.1.0\n",
    "import tensorflow as tf\n",
    "import pandas as pd # data analysis toolkit - create, read, update, delete datasets\n",
    "import numpy as np #matrix math\n",
    "from sklearn.model_selection import train_test_split #to split out training and testing data \n",
    "#keras is a high level wrapper on top of tensorflow (machine learning library)\n",
    "#The Sequential container is a linear stack of layers\n",
    "from tensorflow.keras.models import Sequential\n",
    "#popular optimization strategy that uses gradient descent \n",
    "from tensorflow.keras.optimizers import Adam\n",
    "#to save our model periodically as checkpoints for loading later\n",
    "from tensorflow.keras.callbacks import ModelCheckpoint\n",
    "#what types of layers do we want our model to have?\n",
    "from tensorflow.keras.layers import LSTM, Lambda, Conv2D, MaxPooling2D, Dropout, Dense, Flatten,Input,Reshape\n",
    "#helper class to define input shape and generate training images given image paths & steering angles\n",
    "from utils import INPUT_SHAPE, batch_generator\n",
    "#for command line arguments\n",
    "import argparse\n",
    "#for reading files\n",
    "import os\n",
    "import keras\n",
    "import matplotlib.pyplot as plt\n",
    "import math\n",
    "#!pip install keras==2.2.0\n",
    "#!pip install tensorflow==2.2.0"
   ]
  },
  {
   "cell_type": "code",
   "execution_count": 43,
   "metadata": {},
   "outputs": [],
   "source": [
    "data_dir = '/home/perm/example/self_driving/dataset'\n",
    "def load_data():\n",
    "    test_size =0.2\n",
    "   \n",
    "    \"\"\"\n",
    "    Load training data and split it into training and validation set\n",
    "    \"\"\"\n",
    "    #reads CSV file into a single dataframe variable\n",
    "    data_df = pd.read_csv('/home/perm/example/self_driving/test.csv', \n",
    "                          names=['image_dir', 'vx','vyaw'], header=0)\n",
    "\n",
    "    #yay dataframes, we can select rows and columns by their names\n",
    "    #we'll store the camera images as our input data\n",
    "    X = data_df['image_dir'].values\n",
    "    #and our steering commands as our output data\n",
    "    y = data_df[['vx','vyaw']].values\n",
    "\n",
    "    #now we can split the data into a training (80), testing(20), and validation set\n",
    "    #thanks scikit learn\n",
    "    X_train, X_valid, y_train, y_valid = train_test_split(X, y, test_size=test_size, random_state=0)\n",
    "    print(len(X_train))\n",
    "\n",
    "    return X_train, X_valid, y_train, y_valid\n"
   ]
  },
  {
   "cell_type": "code",
   "execution_count": 44,
   "metadata": {},
   "outputs": [
    {
     "name": "stdout",
     "output_type": "stream",
     "text": [
      "10683\n"
     ]
    }
   ],
   "source": [
    "X_train, X_valid, y_train, y_valid = load_data()\n",
    "import cv2\n"
   ]
  },
  {
   "cell_type": "code",
   "execution_count": 45,
   "metadata": {},
   "outputs": [],
   "source": [
    "def build_model(): \n",
    "   # Build your model here\n",
    "    # Build your model here\n",
    "   model = tf.keras.models.Sequential([\n",
    "    tf.keras.layers.Flatten(input_shape=(300, 300,1)),\n",
    "    tf.keras.layers.Dense(128, activation='relu'),\n",
    "    tf.keras.layers.Dropout(0.2),\n",
    "    tf.keras.layers.Dense(2)\n",
    "  ])\n",
    "\n",
    "   return model"
   ]
  },
  {
   "cell_type": "code",
   "execution_count": 46,
   "metadata": {},
   "outputs": [],
   "source": [
    "def train_model(model,  X_train, X_valid, y_train, y_valid):\n",
    "    save_best_only = True\n",
    "    learning_rate= 1.0e-6 #set the learning rate here\n",
    "    \n",
    "    print(X_train.shape)\n",
    "    batch_size = 32 # set the bach size here \n",
    "    samples_per_epoch =len(X_train)# int(math.ceil((1.*len(X_train))/batch_size))\n",
    "    validation_steps = len(X_valid)#int(math.ceil((1.*len(X_valid))/batch_size))\n",
    "    print(samples_per_epoch,validation_steps)\n",
    "    num_epochs = 1\n",
    "    checkpoint = tf.keras.callbacks.ModelCheckpoint('bravo-{epoch:03d}.h5',\n",
    "                                 monitor='val_loss',\n",
    "                                 verbose=0,\n",
    "                                 save_best_only=save_best_only,\n",
    "                                 mode='auto')\n",
    "\n",
    "    \n",
    "    #Comiple the model here \n",
    "    model.compile(loss='mean_squared_error', optimizer=tf.keras.optimizers.Adam(learning_rate=learning_rate),metrics=['accuracy'])\n",
    "\n",
    "    #Fits the model on data generated batch-by-batch by a Python generator.\n",
    "\n",
    "    train_gen = batch_generator(data_dir, X_train, y_train, batch_size, True)\n",
    "    valid_gen = batch_generator(data_dir, X_valid, y_valid, batch_size, False)\n",
    "\n",
    "    result = model.fit(train_gen,\n",
    "            steps_per_epoch=len(X_train), \n",
    "            epochs=num_epochs,\n",
    "            validation_data=valid_gen,\n",
    "            validation_steps=len(X_valid), \n",
    "            callbacks=[checkpoint],\n",
    "                        \n",
    "                        verbose=1\n",
    "            )\n",
    "\n",
    "    # Plot loss and save model\n",
    "    #Saving model\n",
    "    model.save('my_model.h5')\n",
    "\n",
    "    plt.semilogy(result.history['loss'],label='loss')\n",
    "    plt.semilogy(result.history['val_loss'],label='val_loss')\n",
    "    plt.legend()"
   ]
  },
  {
   "cell_type": "code",
   "execution_count": 47,
   "metadata": {},
   "outputs": [],
   "source": [
    "def main():\n",
    "    \"\"\"\n",
    "    Load train/validation data set and train the model\n",
    "    \"\"\"\n",
    "    #load data\n",
    "    data = load_data()\n",
    "    #build model\n",
    "    model = build_model()\n",
    "    #train model on data, it saves as model.h5 \n",
    "    train_model(model, *data)"
   ]
  },
  {
   "cell_type": "code",
   "execution_count": 48,
   "metadata": {
    "scrolled": true
   },
   "outputs": [
    {
     "name": "stdout",
     "output_type": "stream",
     "text": [
      "10683\n",
      "(10683,)\n",
      "10683 2671\n",
      "10683/10683 [==============================] - 3530s 330ms/step - loss: 79.1878 - accuracy: 0.9232 - val_loss: 0.3581 - val_accuracy: 0.9965\n"
     ]
    },
    {
     "data": {
      "image/png": "[encoded data removed]",
      "text/plain": [
       "<Figure size 640x480 with 1 Axes>"
      ]
     },
     "metadata": {},
     "output_type": "display_data"
    }
   ],
   "source": [
    "if __name__ == '__main__':\n",
    "    main()"
   ]
  },
  {
   "cell_type": "code",
   "execution_count": null,
   "metadata": {},
   "outputs": [],
   "source": []
  }
 ],
 "metadata": {
  "kernelspec": {
   "display_name": "Python 3",
   "language": "python",
   "name": "python3"
  },
  "language_info": {
   "codemirror_mode": {
    "name": "ipython",
    "version": 3
   },
   "file_extension": ".py",
   "mimetype": "text/x-python",
   "name": "python",
   "nbconvert_exporter": "python",
   "pygments_lexer": "ipython3",
   "version": "3.10.9"
  }
 },
 "nbformat": 4,
 "nbformat_minor": 2
}
