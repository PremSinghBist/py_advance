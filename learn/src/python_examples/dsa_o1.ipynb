{
 "cells": [
  {
   "cell_type": "markdown",
   "metadata": {},
   "source": [
    "Problem 01 : Subarray with given sum\n",
    "\n",
    "Given an unsorted array A of size N that contains only positive integers, \n",
    "find a continuous sub-array that adds to a given number S and return the left and right index(1-based indexing) of that subarray.\n",
    "#ie is sum of given number should be equal to number S\n",
    "\n",
    "In case of multiple subarrays, return the subarray indexes which come first on moving from left to right.\n",
    "\n",
    "Note:- You have to return an ArrayList consisting of two elements left and right. In case no such subarray exists return an array consisting of element -1.\n",
    "\n",
    "Example: \n",
    "Input: N = 5, S = 12\n",
    "A[] = {1,2,3,7,5}\n",
    "Output: 2 4\n",
    "Explanation: The sum of elements \n",
    "from 2nd position to 4th position \n",
    "is 12."
   ]
  },
  {
   "cell_type": "code",
   "execution_count": 17,
   "metadata": {},
   "outputs": [],
   "source": [
    "\n",
    "def find_continous_sub_arry_sum(a, continuous_sum): \n",
    "    #find continous subarray that adds given number b, and returns (left and right index : 1 based index) of subarray \n",
    "    #Expected Time Complexity: O(N) , How :) \n",
    "    step_counter = 0\n",
    "    found = False\n",
    "    for i  in range(len(a)):\n",
    "        for j in range(i+1, len(a)+1): #+1 is beacuse range does not include last element so, +1 will include last element\n",
    "            print(i, \":\", j)\n",
    "            sub_array = a[i:j]\n",
    "            print(\"Subarry: \", a[i:j])  #\n",
    "            sum_sub_array = sum(sub_array)\n",
    "            print(\"Sum of sub array :\", sum_sub_array)\n",
    "            step_counter = step_counter + 1\n",
    "            if sum_sub_array == continuous_sum:\n",
    "                left_index  = i+1  #becuase its one based index \\ The question asks one based index\n",
    "                right_index = j #As J already starts with +1  \n",
    "                print(\"Left One based Sub Index {} Right : {}\".format(left_index, right_index))\n",
    "                found = True\n",
    "                print(\"Result found in steps = {} for array of size: {}\".format(step_counter, len(a)))\n",
    "                break\n",
    "        if found == True:\n",
    "            break\n",
    "    if found == False:\n",
    "        print(\"No continous subarray found that returns the sum: \", continuous_sum)\n",
    "    \n"
   ]
  },
  {
   "cell_type": "code",
   "execution_count": 18,
   "metadata": {},
   "outputs": [
    {
     "name": "stdout",
     "output_type": "stream",
     "text": [
      "0 : 1\n",
      "Subarry:  [1]\n",
      "Sum of sub array : 1\n",
      "0 : 2\n",
      "Subarry:  [1, 2]\n",
      "Sum of sub array : 3\n",
      "0 : 3\n",
      "Subarry:  [1, 2, 3]\n",
      "Sum of sub array : 6\n",
      "0 : 4\n",
      "Subarry:  [1, 2, 3, 7]\n",
      "Sum of sub array : 13\n",
      "0 : 5\n",
      "Subarry:  [1, 2, 3, 7, 5]\n",
      "Sum of sub array : 18\n",
      "1 : 2\n",
      "Subarry:  [2]\n",
      "Sum of sub array : 2\n",
      "1 : 3\n",
      "Subarry:  [2, 3]\n",
      "Sum of sub array : 5\n",
      "1 : 4\n",
      "Subarry:  [2, 3, 7]\n",
      "Sum of sub array : 12\n",
      "Left One based Sub Index 2 Right : 4\n",
      "Result found in steps = 8 for array of size: 5\n"
     ]
    }
   ],
   "source": [
    "a = [1, 2, 3, 7, 5] #unsorted array | positive integers only\n",
    "continuous_sum = 12\n",
    "find_continous_sub_arry_sum(a, continuous_sum)"
   ]
  },
  {
   "cell_type": "code",
   "execution_count": 15,
   "metadata": {},
   "outputs": [
    {
     "name": "stdout",
     "output_type": "stream",
     "text": [
      "0 : 1\n",
      "Subarry:  [1]\n",
      "Sum of sub array : 1\n",
      "0 : 2\n",
      "Subarry:  [1, 2]\n",
      "Sum of sub array : 3\n",
      "0 : 3\n",
      "Subarry:  [1, 2, 3]\n",
      "Sum of sub array : 6\n",
      "0 : 4\n",
      "Subarry:  [1, 2, 3, 4]\n",
      "Sum of sub array : 10\n",
      "0 : 5\n",
      "Subarry:  [1, 2, 3, 4, 5]\n",
      "Sum of sub array : 15\n",
      "Left One based Sub Index 1 Right : 5\n"
     ]
    }
   ],
   "source": [
    "a = [1,2,3,4,5,6,7,8,9,10]\n",
    "continuous_sum = 15\n",
    "find_continous_sub_arry_sum(a, continuous_sum)"
   ]
  },
  {
   "cell_type": "markdown",
   "metadata": {},
   "source": [
    "Rotate Bits \n",
    "Given an integer N and an integer D, rotate the binary representation of the integer N by D digits to the left as well as right and return the results in their decimal representation after each of the rotation.\n",
    "Note: Integer N is stored using 16 bits. i.e. 12 will be stored as 0000000000001100.\n",
    "\n",
    "Example 1:\n",
    "\n",
    "Input:\n",
    "N = 28, D = 2\n",
    "Output:\n",
    "112\n",
    "7\n",
    "Explanation: \n",
    "28 in Binary is: 0000000000011100\n",
    "Rotating left by 2 positions, it becomes 0000000001110000 = 112 (in decimal).\n",
    "Rotating right by 2 positions, it becomes 0000000000000111 = 7 (in decimal).\n",
    "Example 2:\n",
    "\n",
    "Input: \n",
    "N = 29, D = 2\n",
    "Output: \n",
    "116\n",
    "16391\n",
    "Explanation: \n",
    "29 in Binary is: 0000000000011101\n",
    "Rotating left by 2 positions, it becomes 0000000001110100 = 116 (in decimal).\n",
    "Rotating right by 2 positions, it becomes 010000000000111 = 16391 (in decimal).\n",
    "Your Task:\n",
    "You don't need to read input or print anything. Your task is to complete the function rotate() which takes the integer N and integer D as inputs and returns an array of size 2 where arr[0] = Decimal value after left rotation and arr[1] = Decimal value after right rotation.\n",
    "\n",
    "Expected Time Complexity: O(1).\n",
    "Expected Auxiliary Space: O(1).\n",
    "\n",
    "Constraints:\n",
    "1 <= N <  216\n",
    "1 <= D <= 105"
   ]
  },
  {
   "cell_type": "code",
   "execution_count": 61,
   "metadata": {},
   "outputs": [],
   "source": [
    "\n",
    "def left_rotate_decimal(num, rotate):\n",
    "    #num_bin = bin(num) #this give 0b1111 so , direct use the below formatter\n",
    "    num_bin = f'{num:b}'\n",
    "    # print(type(num_bin)) #Gives a string representation of binary value\n",
    "    print(num_bin)\n",
    "    #As we need 16 bit representation | append number of zeros \n",
    "    no_append_zeros  = 16- len(num_bin)\n",
    "    full_representation = '0'*no_append_zeros + num_bin\n",
    "    print(full_representation)\n",
    "    print(\"Length of full representation: \", len(full_representation))\n",
    "    full_representation = [element for element in full_representation] #convert string to arry as string does not support item assinment\n",
    "\n",
    "    #rotated array of size : 16\n",
    "    roated_arry = [None]*len(full_representation)\n",
    "    #Swap the elements with each other \n",
    "    for index in range(len(full_representation)):\n",
    "        new_index = index - 2 #For left rotation , decrese by 2 \n",
    "        roated_arry[new_index] = full_representation[index]\n",
    "        #Swap the index and new index \n",
    "        # full_representation[index], full_representation[new_index] = full_representation[new_index], full_representation[index]\n",
    "    #print(\"Updated left rotation: \", str(roated_arry))\n",
    "    #Convert arry to string \n",
    "    rot_str = ''.join(roated_arry)\n",
    "    #decimal value  | int(binary_string, 2  )  2 - means base-2 binary representation\n",
    "    dec = int(rot_str , 2)  #\n",
    "    print(\"The rotated decimal value is \", dec)\n",
    "\n",
    "\n"
   ]
  },
  {
   "cell_type": "code",
   "execution_count": 62,
   "metadata": {},
   "outputs": [
    {
     "name": "stdout",
     "output_type": "stream",
     "text": [
      "11100\n",
      "0000000000011100\n",
      "Length of full representation:  16\n",
      "The rotated decimal value is  112\n"
     ]
    }
   ],
   "source": [
    "left_rotate_decimal(28, 2)"
   ]
  },
  {
   "cell_type": "code",
   "execution_count": 63,
   "metadata": {},
   "outputs": [
    {
     "name": "stdout",
     "output_type": "stream",
     "text": [
      "11101\n",
      "0000000000011101\n",
      "Length of full representation:  16\n",
      "The rotated decimal value is  116\n"
     ]
    }
   ],
   "source": [
    "left_rotate_decimal(29, 2)"
   ]
  },
  {
   "cell_type": "markdown",
   "metadata": {},
   "source": [
    "Given an array of size N containing only 0s, 1s, and 2s; sort the array in ascending order.\n",
    "Example 1:\n",
    "\n",
    "Input: \n",
    "N = 5\n",
    "arr[]= {0 2 1 2 0}\n",
    "Output:\n",
    "0 0 1 2 2\n",
    "Explanation:\n",
    "0s 1s and 2s are segregated \n",
    "into ascending order.\n",
    "\n",
    "Your Task:\n",
    "You don't need to read input or print anything. Your task is to complete the function sort012() that takes an array arr and N as input parameters and sorts the array in-place."
   ]
  },
  {
   "cell_type": "code",
   "execution_count": 7,
   "metadata": {},
   "outputs": [],
   "source": [
    "def sort_0_1_2(arr):\n",
    "    zeros = []\n",
    "    ones = []\n",
    "    twos = []\n",
    "    for index in range(len(arr)):\n",
    "        if arr[index] == 0:\n",
    "            zeros.append(0)\n",
    "        elif arr[index] == 1:\n",
    "            ones.append(1)\n",
    "        elif arr[index] == 2:\n",
    "            twos.append(2)\n",
    "    sorted  = zeros + ones + twos \n",
    "    assert len(sorted), len(arr)\n",
    "    print(sorted)\n",
    "        "
   ]
  },
  {
   "cell_type": "code",
   "execution_count": 10,
   "metadata": {},
   "outputs": [
    {
     "name": "stdout",
     "output_type": "stream",
     "text": [
      "[0, 0, 0, 0, 1, 1, 2, 2, 2]\n"
     ]
    }
   ],
   "source": [
    "arr = [0, 2, 1, 2, 0, 0, 1, 0, 2]\n",
    "sort_0_1_2(arr)"
   ]
  },
  {
   "cell_type": "markdown",
   "metadata": {},
   "source": [
    "Missing number in array\n",
    "Given an array of size N-1 such that it only contains distinct integers in the range of 1 to N. Find the missing element.\n",
    "Example 1:\n",
    "Input:\n",
    "N = 5\n",
    "A[] = {1,2,3,5}\n",
    "Output: 4\n",
    "\n",
    "Example 2:\n",
    "Input:\n",
    "N = 10\n",
    "A[] = {6,1,2,8,3,4,7,10,5}\n",
    "Output: 9\n",
    "\n",
    "\n",
    "Your Task :\n",
    "You don't need to read input or print anything. \n",
    "Complete the function MissingNumber() that takes array and N as input  parameters \n",
    "and returns the value of the missing number."
   ]
  },
  {
   "cell_type": "code",
   "execution_count": 15,
   "metadata": {},
   "outputs": [],
   "source": [
    "#Distinct integers\n",
    "def find_missing_value(arr):\n",
    "    max_val = max(arr)\n",
    "    min_val = min(arr)\n",
    "    index  = 0\n",
    "    missing = min_val \n",
    "    for i in range(min_val, max_val, 1): \n",
    "        if i in arr:\n",
    "            continue\n",
    "        else:\n",
    "            print(\"Missing value is : \", i)\n",
    "            break\n",
    "    \n"
   ]
  },
  {
   "cell_type": "code",
   "execution_count": 17,
   "metadata": {},
   "outputs": [
    {
     "name": "stdout",
     "output_type": "stream",
     "text": [
      "Missing value is :  9\n"
     ]
    }
   ],
   "source": [
    "N = 5\n",
    "arr = [1,2,3,5]\n",
    "arr2 = [6,1,2,8,3,4,7,10,5]\n",
    "find_missing_value(arr2)"
   ]
  },
  {
   "cell_type": "markdown",
   "metadata": {},
   "source": [
    "Leaders in an array\n",
    "Given an array A of positive integers. Your task is to find the leaders in the array. An element of array is leader if it is greater than or equal to all the elements to its right side. The rightmost element is always a leader. \n",
    "Example 1:\n",
    "n = 6\n",
    "A[] = {16,17,4,3,5,2}\n",
    "Output: 17 5 2\n",
    "Explanation: The first leader is 17 \n",
    "as it is greater than all the elements\n",
    "to its right.  Similarly, the next \n",
    "leader is 5. The right most element \n",
    "is always a leader so it is also \n",
    "included.\n",
    "\n",
    "Example 2:\n",
    "n = 5\n",
    "A[] = {1,2,3,4,0}\n",
    "Output: 4 0\n",
    "Explanation: 0 is the rightmost element\n",
    "and 4 is the only element which is greater\n",
    "than all the elements to its right.\n",
    "\n",
    "You don't need to read input or print anything. \n",
    "The task is to complete the function leader() which takes array A and n as input parameters\n",
    " and returns an array of leaders in order of their appearance.\n"
   ]
  },
  {
   "cell_type": "code",
   "execution_count": 29,
   "metadata": {},
   "outputs": [],
   "source": [
    "#left element should be greater than all of the elements to its right \n",
    "\n",
    "def get_leader(arr):\n",
    "    for index in range(len(arr)):\n",
    "        element = arr[index]\n",
    "        sub_arry = arr[index+1 : ] #Remain sub arrays \n",
    "        if (len(sub_arry)) == 0 :\n",
    "            print(\"Last Leader : \", arr[index])\n",
    "            break\n",
    "        max_sub_array_element = max(sub_arry)\n",
    "        #print(\"MAx sub array element:\", max_sub_array_element)\n",
    "        if arr[index] > max_sub_array_element:\n",
    "            print(\"Ledear : \", arr[index])\n",
    "        "
   ]
  },
  {
   "cell_type": "code",
   "execution_count": 28,
   "metadata": {},
   "outputs": [
    {
     "name": "stdout",
     "output_type": "stream",
     "text": [
      "Ledear :  4\n",
      "Last Leader :  0\n"
     ]
    }
   ],
   "source": [
    "arr =[16,17,4,3,5,2]\n",
    "arr1 = [1,2,3,4,0]\n",
    "# get_leader(arr)\n",
    "get_leader(arr1)"
   ]
  },
  {
   "cell_type": "markdown",
   "metadata": {},
   "source": []
  },
  {
   "cell_type": "markdown",
   "metadata": {},
   "source": [
    "#Largest subarray with 0 sum \n",
    "\n",
    "\n",
    "\n"
   ]
  },
  {
   "cell_type": "code",
   "execution_count": 23,
   "metadata": {},
   "outputs": [],
   "source": [
    "\n",
    "def largest_sub_arry_with_sum_zero(arr):\n",
    "    arrys_with_sum_zero= [] \n",
    "    for index in range(len(arr)):\n",
    "        for j in range(index+ 1,len(arr)):\n",
    "            sub_arry = arr[index :j]\n",
    "            if sum(sub_arry) == 0:\n",
    "                print(f\"sub arry : {sub_arry} Sum: {sum(sub_arry)} \" )\n",
    "                arrys_with_sum_zero.append(sub_arry)\n",
    "    #Find largest array index \n",
    "    max_len_index = 0\n",
    "    for i in range(1, len(arrys_with_sum_zero)):\n",
    "        if len(arrys_with_sum_zero[i]) > len(arrys_with_sum_zero[max_len_index]):\n",
    "            max_len_index = i\n",
    "\n",
    "    print(\"The largest length array is : \", arrys_with_sum_zero[max_len_index])    \n",
    "\n",
    "\n",
    "    \n",
    "    \n"
   ]
  },
  {
   "cell_type": "code",
   "execution_count": 24,
   "metadata": {},
   "outputs": [
    {
     "name": "stdout",
     "output_type": "stream",
     "text": [
      "sub arry : [-2, 2] Sum: 0 \n",
      "sub arry : [-2, 2, -8, 1, 7] Sum: 0 \n",
      "sub arry : [-8, 1, 7] Sum: 0 \n",
      "The largest length array is :  [-2, 2, -8, 1, 7]\n"
     ]
    }
   ],
   "source": [
    "arr = [5,-2,2,-8,1,7,10,23]\n",
    "largest_sub_arry_with_sum_zero(arr)"
   ]
  },
  {
   "cell_type": "markdown",
   "metadata": {},
   "source": [
    "#Find Kth smallest element from array\n"
   ]
  },
  {
   "cell_type": "code",
   "execution_count": 38,
   "metadata": {},
   "outputs": [
    {
     "name": "stdout",
     "output_type": "stream",
     "text": [
      "4th smalest value is : 10\n",
      "original arry:  [7, 10, 4, 3, 20, 15]\n",
      "Arry copy :  [20, 15]\n"
     ]
    }
   ],
   "source": [
    "arr = [7, 10, 4, 3, 20, 15]\n",
    "arr_copy = arr.copy() #shallow copy | still elements refer to the original list \n",
    "k =4  #third smallest elements :  = 7\n",
    "for i in range(k):\n",
    "    #min_index = arr.index(min(arr)) \n",
    "    min_value = min(arr_copy)\n",
    "    arr_copy.remove(min_value)\n",
    "print(f\"{k}th smalest value is : {min_value}\")\n",
    "print(\"original arry: \", arr)\n",
    "print(\"Arry copy : \", arr_copy)\n",
    "\n"
   ]
  },
  {
   "cell_type": "markdown",
   "metadata": {},
   "source": [
    "#inversion count ==> a[i] > a [j] | i < j =>then its inversion | ie oth ma highest element \n"
   ]
  },
  {
   "cell_type": "code",
   "execution_count": 44,
   "metadata": {},
   "outputs": [],
   "source": [
    "def inversion_counter(arr):\n",
    "    inversion_count_numbers = set()\n",
    "    #for no 2 inversion counts are : (2, 1)\n",
    "    #for no 4 invesion counts are: (4,1) (4,3)\n",
    "    for i in range(len(arr)):\n",
    "        for j in range(i+1, len(arr)):\n",
    "            #inversion count condition\n",
    "            if arr[i] > arr[j] : \n",
    "                #print(\"Inversion count numbers\")\n",
    "                inversion_count_numbers.append((arr[i], arr[j]))\n",
    "\n",
    "    #Inversion count number \n",
    "    print(inversion_count_numbers)\n",
    "                "
   ]
  },
  {
   "cell_type": "code",
   "execution_count": 51,
   "metadata": {},
   "outputs": [
    {
     "name": "stdout",
     "output_type": "stream",
     "text": [
      "[(5, 0), (5, 0), (5, 0), (5, 0), (5, 0)]\n"
     ]
    }
   ],
   "source": [
    "arr = [2, 4, 1, 3, 4]\n",
    "arr1 = [2, 3, 4, 5, 6]\n",
    "arr3 = [10,  10, 10]\n",
    "arr4 = [5, 0, 0, 0, 0, 0]\n",
    "inversion_counter(arr4)"
   ]
  }
 ],
 "metadata": {
  "kernelspec": {
   "display_name": "mutation-science-code",
   "language": "python",
   "name": "python3"
  },
  "language_info": {
   "codemirror_mode": {
    "name": "ipython",
    "version": 3
   },
   "file_extension": ".py",
   "mimetype": "text/x-python",
   "name": "python",
   "nbconvert_exporter": "python",
   "pygments_lexer": "ipython3",
   "version": "3.8.17"
  },
  "orig_nbformat": 4
 },
 "nbformat": 4,
 "nbformat_minor": 2
}
