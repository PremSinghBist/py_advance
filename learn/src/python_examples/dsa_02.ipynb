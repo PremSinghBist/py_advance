{
 "cells": [
  {
   "cell_type": "code",
   "execution_count": 29,
   "metadata": {},
   "outputs": [],
   "source": [
    "##finding missing number in array of distinct number from range (1 to N)\n",
    "def missingNumber(arr, n):\n",
    "    for i in range(n):\n",
    "        num = i + 1\n",
    "        if num not in arr:\n",
    "            #print(\"Missing number is \", num)\n",
    "            return num\n",
    "            break\n",
    "    return None\n",
    "    \n",
    "        \n",
    "    \n"
   ]
  },
  {
   "cell_type": "code",
   "execution_count": 43,
   "metadata": {},
   "outputs": [
    {
     "name": "stdout",
     "output_type": "stream",
     "text": [
      "6\n"
     ]
    }
   ],
   "source": [
    "arr = [2, 4, 3]\n",
    "arr1 = [2,1, 3, 4, 5, 7, 8, 9]\n",
    "result = missingNumber(arr1, len(arr1))\n",
    "print(result)"
   ]
  },
  {
   "cell_type": "code",
   "execution_count": 12,
   "metadata": {},
   "outputs": [],
   "source": [
    "def missingNumberSmart(arr, n):\n",
    "    sum_of_array = sum(arr)\n",
    "    sum_of_n_natural = (n * (n + 1)) // 2\n",
    "    missing = sum_of_n_natural - sum_of_array\n",
    "    if missing ==  0:\n",
    "        return None\n",
    "    return missing"
   ]
  },
  {
   "cell_type": "code",
   "execution_count": 11,
   "metadata": {},
   "outputs": [
    {
     "data": {
      "text/plain": [
       "4"
      ]
     },
     "execution_count": 11,
     "metadata": {},
     "output_type": "execute_result"
    }
   ],
   "source": [
    "total_nums  = 9\n",
    "#missingNumberSmart([2,1, 3, 4, 5, 7, 8, 9], total_nums)\n",
    "missingNumberSmart([2,1, 3, 5], 5)"
   ]
  }
 ],
 "metadata": {
  "kernelspec": {
   "display_name": "base",
   "language": "python",
   "name": "python3"
  },
  "language_info": {
   "codemirror_mode": {
    "name": "ipython",
    "version": 3
   },
   "file_extension": ".py",
   "mimetype": "text/x-python",
   "name": "python",
   "nbconvert_exporter": "python",
   "pygments_lexer": "ipython3",
   "version": "3.10.9"
  },
  "orig_nbformat": 4
 },
 "nbformat": 4,
 "nbformat_minor": 2
}
