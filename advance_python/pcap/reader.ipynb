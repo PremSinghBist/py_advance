{
 "cells": [
  {
   "cell_type": "code",
   "execution_count": 6,
   "metadata": {},
   "outputs": [],
   "source": [
    "import dpkt\n",
    "import socket"
   ]
  },
  {
   "cell_type": "code",
   "execution_count": 10,
   "metadata": {},
   "outputs": [
    {
     "data": {
      "text/plain": [
       "[{'timestamp': 1413578829.242339,\n",
       "  'mac_src': '74e50bccfc50',\n",
       "  'mac_dst': '001dd46257e1',\n",
       "  'ether_type': 2048,\n",
       "  'ip_src': '10.0.0.11',\n",
       "  'ip_dst': '157.166.226.25',\n",
       "  'ip_proto': 6,\n",
       "  'data': IP(len=52, id=18701, df=1, ttl=128, p=6, sum=10220, src=b'\\n\\x00\\x00\\x0b', dst=b'\\x9d\\xa6\\xe2\\x19', opts=b'', data=TCP(sport=51384, dport=80, seq=234124756, off=8, win=8192, sum=30842, opts=b'\\x02\\x04\\x05\\xb4\\x01\\x03\\x03\\x02\\x01\\x01\\x04\\x02'))}]"
      ]
     },
     "execution_count": 10,
     "metadata": {},
     "output_type": "execute_result"
    }
   ],
   "source": [
    "import dpkt\n",
    "\n",
    "def read_pcap(filename):\n",
    "    \"\"\"Reads a pcap file using dpkt and extracts packet information.\"\"\"\n",
    "    with open(filename, 'rb') as f:\n",
    "        pcap_reader = dpkt.pcap.Reader(f)\n",
    "        packets = []\n",
    "        for ts, pkt in pcap_reader:\n",
    "            # Extract information from each packet (timestamp, protocol, etc.)\n",
    "            # You can access packet data using dpkt's classes (Ethernet, IP, TCP, UDP)\n",
    "            packets.append(get_packet_info(ts, pkt))\n",
    "    return packets\n",
    "            \n",
    "def get_packet_info(ts, buf):\n",
    "  \"\"\"\n",
    "  Extracts information from a single packet.\n",
    "  \"\"\"\n",
    "  eth = dpkt.ethernet.Ethernet(buf)\n",
    "  info = {\n",
    "      'timestamp': ts,  # Capture timestamp\n",
    "      'mac_src': eth.src.hex(),  # Source MAC address\n",
    "      'mac_dst': eth.dst.hex(),  # Destination MAC address\n",
    "      'ether_type': eth.type,  # Ethernet packet type (e.g., IP)\n",
    "  }\n",
    "\n",
    "  # Handle different packet types (expand as needed)\n",
    "  if eth.type == dpkt.ethernet.ETH_TYPE_IP:\n",
    "    ip = eth.data\n",
    "    info.update({\n",
    "      'ip_src': socket.inet_ntoa(ip.src),  # Source IP address\n",
    "      'ip_dst': socket.inet_ntoa(ip.dst),  # Destination IP address\n",
    "      'ip_proto': ip.p,  # IP protocol (e.g., TCP, UDP)\n",
    "    })\n",
    "    info.update({\n",
    "        'data' : ip\n",
    "    })\n",
    "    # Further processing for TCP, UDP, etc. (see below)\n",
    "\n",
    "  # Return dictionary containing extracted information\n",
    "  return info #ip means data \n",
    "\n",
    "# Example usage\n",
    "read_pcap('/home/perm/example/advance_python/pcap/ETH_IPv4_TCP_syn.pcap')\n"
   ]
  },
  {
   "cell_type": "code",
   "execution_count": null,
   "metadata": {},
   "outputs": [],
   "source": [
    "from scapy.all import rdpcap\n",
    "import pandas as pd\n",
    "\n",
    "# Read the PCAP file\n",
    "packets = rdpcap('/home/perm/example/advance_python/pcap/ETH_IPv4_TCP_syn.pcap')\n",
    "\n",
    "# Function to extract important header information\n",
    "def extract_packet_info(packet):\n",
    "    packet_info = {\n",
    "        'src_ip': packet[0][1].src if packet.haslayer('IP') else None,\n",
    "        'dst_ip': packet[0][1].dst if packet.haslayer('IP') else None,\n",
    "        'src_port': packet[0][2].sport if packet.haslayer('TCP') or packet.haslayer('UDP') else None,\n",
    "        'dst_port': packet[0][2].dport if packet.haslayer('TCP') or packet.haslayer('UDP') else None,\n",
    "        'protocol': packet[0][1].proto if packet.haslayer('IP') else None,\n",
    "        'length': len(packet)\n",
    "    }\n",
    "    return packet_info\n",
    "\n",
    "# Extract information from each packet\n",
    "packet_data = [extract_packet_info(packet) for packet in packets]\n",
    "\n",
    "# Convert to DataFrame\n",
    "df = pd.DataFrame(packet_data)\n",
    "\n",
    "# Drop rows with None values\n",
    "df.dropna(inplace=True)\n",
    "\n",
    "# Display the DataFrame\n",
    "print(df)\n",
    "\n",
    "# Save the DataFrame to a CSV file (optional)\n",
    "df.to_csv('packet_data.csv', index=False)\n"
   ]
  }
 ],
 "metadata": {
  "kernelspec": {
   "display_name": "seq_unet",
   "language": "python",
   "name": "python3"
  },
  "language_info": {
   "codemirror_mode": {
    "name": "ipython",
    "version": 3
   },
   "file_extension": ".py",
   "mimetype": "text/x-python",
   "name": "python",
   "nbconvert_exporter": "python",
   "pygments_lexer": "ipython3",
   "version": "3.9.2"
  }
 },
 "nbformat": 4,
 "nbformat_minor": 2
}
